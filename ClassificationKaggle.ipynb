{
 "cells": [
  {
   "cell_type": "code",
   "execution_count": 37,
   "metadata": {},
   "outputs": [],
   "source": [
    "import numpy as np\n",
    "import pandas as pd\n",
    "from xgboost import XGBClassifier\n",
    "from sklearn import preprocessing\n",
    "import random"
   ]
  },
  {
   "cell_type": "code",
   "execution_count": 26,
   "metadata": {},
   "outputs": [
    {
     "name": "stdout",
     "output_type": "stream",
     "text": [
      "train data: (3995, 541)\n",
      "test data: (4006, 540)\n",
      "ids: (4008, 1)\n"
     ]
    }
   ],
   "source": [
    "\"\"\" Loading the data \"\"\"\n",
    "\n",
    "#train\n",
    "train_clean = pd.read_csv(filepath_or_buffer=\"train_clean.csv\", sep=\",\")\n",
    "train_data = pd.read_csv(filepath_or_buffer=\"train_data.csv\", sep=\",\")\n",
    "train = pd.merge(train_clean, train_data, on='track_id')\n",
    "print(f\"train data: {train.shape}\")\n",
    "\n",
    "#test\n",
    "test = pd.read_csv(filepath_or_buffer=\"test_data.csv\", sep=\",\")\n",
    "print(f\"test data: {test.shape}\")\n",
    "\n",
    "#ids\n",
    "ids = pd.read_csv(filepath_or_buffer=\"submission.csv\", sep=\",\")\n",
    "ids.drop(['genre_id'], axis=1, inplace=True)\n",
    "print(f\"ids: {ids.shape}\")"
   ]
  },
  {
   "cell_type": "code",
   "execution_count": 27,
   "metadata": {},
   "outputs": [
    {
     "name": "stdout",
     "output_type": "stream",
     "text": [
      "x_train: (3995, 539), y_train: (3995,), x_test: (4006, 539), test_id: (4006,)\n"
     ]
    }
   ],
   "source": [
    "\"\"\" Constructing the training and test sets \"\"\"\n",
    "\n",
    "X_train = train.drop(['genre_id', 'track_id'], axis=1)\n",
    "y_train = train['genre_id'].values\n",
    "X_test  = test.drop(['track_id'], axis=1)\n",
    "test_id = test['track_id'].values\n",
    "\n",
    "print(f\"x_train: {x_train.shape}, y_train: {y_train.shape}, x_test: {x_test.shape}, test_id: {test_id.shape}\")"
   ]
  },
  {
   "cell_type": "code",
   "execution_count": 28,
   "metadata": {},
   "outputs": [],
   "source": [
    "\"\"\" Normalisation \"\"\"\n",
    "\n",
    "scaler = preprocessing.StandardScaler().fit(X_train)\n",
    "X_train = scaler.transform(X_train)\n",
    "X_test = scaler.transform(X_test)\n"
   ]
  },
  {
   "cell_type": "code",
   "execution_count": 29,
   "metadata": {},
   "outputs": [],
   "source": [
    "'''\n",
    "XGBoost Classifier\n",
    "'''\n",
    "\n",
    "model = XGBClassifier(n_estimators=500,learning_rate=0.2, max_depth=5)\n",
    "model.fit(X_train, y_train)\n",
    "predictions = model.predict(x_test)"
   ]
  },
  {
   "cell_type": "code",
   "execution_count": 39,
   "metadata": {},
   "outputs": [],
   "source": [
    "''' Output '''\n",
    "\n",
    "output = pd.DataFrame({'track_id': test_id, 'genre_id': predictions})\n",
    "output = output.merge(ids, on='track_id', how='right')\n",
    "# fill missing id with a random genre\n",
    "output['genre_id'] = output['genre_id'].apply(lambda x: random.randint(1,8) if np.isnan(x) else x)\n",
    "output['genre_id'] = output['genre_id'].apply(int)\n",
    "output.set_index('track_id', inplace=True)\n",
    "\n",
    "\n",
    "output.to_csv('submissionKaggle.csv')\n"
   ]
  },
  {
   "cell_type": "code",
   "execution_count": null,
   "metadata": {},
   "outputs": [],
   "source": [
    "\n"
   ]
  }
 ],
 "metadata": {
  "kernelspec": {
   "display_name": "Python 3",
   "language": "python",
   "name": "python3"
  },
  "language_info": {
   "codemirror_mode": {
    "name": "ipython",
    "version": 3
   },
   "file_extension": ".py",
   "mimetype": "text/x-python",
   "name": "python",
   "nbconvert_exporter": "python",
   "pygments_lexer": "ipython3",
   "version": "3.7.4"
  }
 },
 "nbformat": 4,
 "nbformat_minor": 2
}
